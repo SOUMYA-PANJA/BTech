{
 "cells": [
  {
   "cell_type": "code",
   "execution_count": 9,
   "metadata": {},
   "outputs": [
    {
     "name": "stdout",
     "output_type": "stream",
     "text": [
      "MEDIAN :  54\n",
      "Mode =  30\n",
      "Mode of list x is 30\n",
      "30\n"
     ]
    },
    {
     "data": {
      "image/png": "[encoded data removed]",
      "text/plain": [
       "<Figure size 432x288 with 1 Axes>"
      ]
     },
     "metadata": {
      "needs_background": "light"
     },
     "output_type": "display_data"
    }
   ],
   "source": [
    "import numpy as np\n",
    "import matplotlib.pyplot as plt\n",
    "import statistics\n",
    "def findmedian_(x):\n",
    "    list(x)\n",
    "    if(type(x[0])==list):\n",
    "       x=[d for row in x for d in row]\n",
    "    x.sort()\n",
    "    if(len(x)%2!=0):\n",
    "       med=x[(len(x)-1)//2]\n",
    "    elif(len(x)%2==0):\n",
    "       med=(x[len(X)//2]+x[(len(x)//2)-1])/2\n",
    "    return (print(\"MEDIAN : \",med))\n",
    "def rml_(x):\n",
    "    list(x)\n",
    "    if(type(x[0])==list):\n",
    "        x=[d for row in x for d in row]\n",
    "    return x    \n",
    "def findmode_(x):\n",
    "    list(x)\n",
    "    if(type(x[0]==list)):\n",
    "        x=[d for row in x for d in row]\n",
    "    nonrepeat_x=[]\n",
    "    [nonrepeat_x.append(i)for i in x if i not in nonrepeat_x]\n",
    "    L=[] \n",
    "    for i in nonrepeat_x: \n",
    "        L.append(x.count(i)) \n",
    "    modeVal= nonrepeat_x[L.index(max(L))]  \n",
    "    print(\"Mode = \",modeVal)\n",
    "    z = [str(i) for i in nonrepeat_x]\n",
    "    plt.bar(z,L)\n",
    "X=[[80,270,35],[44,230,30],[30,54,60]]\n",
    "rx=rml_(X)\n",
    "findmedian_(X)\n",
    "findmode_(X)\n",
    "print(\"Mode of list x is %s\"%(max(set(rx),key=rx.count)))\n",
    "print(statistics.mode(rx))"
   ]
  },
  {
   "cell_type": "code",
   "execution_count": 4,
   "metadata": {},
   "outputs": [],
   "source": [
    "def fun(X):\n",
    "    return (X%2 == 0)\n",
    "def sq(x):\n",
    "    return x**2"
   ]
  },
  {
   "cell_type": "code",
   "execution_count": 3,
   "metadata": {},
   "outputs": [
    {
     "name": "stdout",
     "output_type": "stream",
     "text": [
      "[2, 4, 6]\n"
     ]
    }
   ],
   "source": [
    "l = [1,2,3,4,5,6]\n",
    "k = list(filter(fun,l))\n",
    "print(k)"
   ]
  },
  {
   "cell_type": "code",
   "execution_count": 6,
   "metadata": {},
   "outputs": [
    {
     "name": "stdout",
     "output_type": "stream",
     "text": [
      "[1, 4, 9, 16, 25, 36]\n"
     ]
    }
   ],
   "source": [
    "z = list(map(sq,l))\n",
    "print(z)"
   ]
  },
  {
   "cell_type": "code",
   "execution_count": null,
   "metadata": {},
   "outputs": [],
   "source": []
  }
 ],
 "metadata": {
  "interpreter": {
   "hash": "146ad12ad804e51233bd8e0e4750bbd5b1ea650c2a554e98761327ccb594fe93"
  },
  "kernelspec": {
   "display_name": "Python 3.9.7 64-bit",
   "language": "python",
   "name": "python3"
  },
  "language_info": {
   "codemirror_mode": {
    "name": "ipython",
    "version": 3
   },
   "file_extension": ".py",
   "mimetype": "text/x-python",
   "name": "python",
   "nbconvert_exporter": "python",
   "pygments_lexer": "ipython3",
   "version": "3.9.7"
  },
  "orig_nbformat": 4
 },
 "nbformat": 4,
 "nbformat_minor": 2
}

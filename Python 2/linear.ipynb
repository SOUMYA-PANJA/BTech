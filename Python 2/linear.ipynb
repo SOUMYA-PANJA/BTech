{
 "cells": [
  {
   "cell_type": "code",
   "execution_count": 1,
   "metadata": {},
   "outputs": [],
   "source": [
    "import numpy as np\n",
    "import matplotlib.pyplot as plt"
   ]
  },
  {
   "cell_type": "code",
   "execution_count": 16,
   "metadata": {},
   "outputs": [],
   "source": [
    "def grad_desc(X, Y, alpha, epoch):\n",
    "    m, n = np.shape(X)\n",
    "    X = np.concatenate((np.ones((m, 1)), X), axis = 1)\n",
    "    W = np.random.randn(n + 1, )\n",
    "    cost_list = []\n",
    "    for iter in np.arange(epoch):\n",
    "        Y_est = np.dot(X, W)\n",
    "        error = Y_est - Y\n",
    "        cost = (1/(2*m))*np.sum(error**2)\n",
    "        gradient = (1/m)*np.dot(X.T, error)\n",
    "        cost_list.append(cost)\n",
    "        W = W - alpha * gradient\n",
    "    \n",
    "    return W, Y_est, cost_list"
   ]
  },
  {
   "cell_type": "code",
   "execution_count": 17,
   "metadata": {},
   "outputs": [],
   "source": [
    "rng = np.random.RandomState(10)\n",
    "X = 10*rng.rand(3, 2)\n",
    "Y = 0.9+np.dot(X,[2.2,4])"
   ]
  },
  {
   "cell_type": "code",
   "execution_count": 21,
   "metadata": {},
   "outputs": [
    {
     "name": "stdout",
     "output_type": "stream",
     "text": [
      "[1.16279338 2.16457622 3.99089504]\n",
      "[18.69913213 44.79241647 20.85902009]\n",
      "[18.68805137 44.76152668 20.92498846]\n",
      "[ 0.01108075  0.03088979 -0.06596837]\n"
     ]
    }
   ],
   "source": [
    "W, Y_est, cost_list = grad_desc(X, Y, 0.01, 50)\n",
    "print(W)\n",
    "print(Y)\n",
    "print(Y_est)\n",
    "print(Y-Y_est)"
   ]
  },
  {
   "cell_type": "code",
   "execution_count": 19,
   "metadata": {},
   "outputs": [
    {
     "data": {
      "text/plain": [
       "[<matplotlib.lines.Line2D at 0x23014db3ee0>]"
      ]
     },
     "execution_count": 19,
     "metadata": {},
     "output_type": "execute_result"
    },
    {
     "data": {
      "image/png": "[encoded data removed]",
      "text/plain": [
       "<Figure size 432x288 with 1 Axes>"
      ]
     },
     "metadata": {
      "needs_background": "light"
     },
     "output_type": "display_data"
    }
   ],
   "source": [
    "plt.plot(np.arange(len(cost_list)), cost_list, 'r.')"
   ]
  },
  {
   "cell_type": "code",
   "execution_count": null,
   "metadata": {},
   "outputs": [],
   "source": []
  }
 ],
 "metadata": {
  "interpreter": {
   "hash": "146ad12ad804e51233bd8e0e4750bbd5b1ea650c2a554e98761327ccb594fe93"
  },
  "kernelspec": {
   "display_name": "Python 3.9.7 64-bit",
   "language": "python",
   "name": "python3"
  },
  "language_info": {
   "codemirror_mode": {
    "name": "ipython",
    "version": 3
   },
   "file_extension": ".py",
   "mimetype": "text/x-python",
   "name": "python",
   "nbconvert_exporter": "python",
   "pygments_lexer": "ipython3",
   "version": "3.9.7"
  },
  "orig_nbformat": 4
 },
 "nbformat": 4,
 "nbformat_minor": 2
}

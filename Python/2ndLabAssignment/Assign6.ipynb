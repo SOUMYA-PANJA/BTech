{
 "cells": [
  {
   "cell_type": "markdown",
   "metadata": {},
   "source": [
    "# Generally Monday to Friday are working days, while Saturday and Sunday are weekend days. Write a Python program to take any day name as the user input and show whether it is a working day or the weekend."
   ]
  },
  {
   "cell_type": "code",
   "execution_count": 2,
   "metadata": {},
   "outputs": [
    {
     "name": "stdout",
     "output_type": "stream",
     "text": [
      "The day entered is: Monday\n",
      "It is a working day.\n"
     ]
    }
   ],
   "source": [
    "day = input(\"Enter a day: \")\n",
    "weekend = [\"Saturday\", \"Sunday\"]\n",
    "print(\"The day entered is:\", day)\n",
    "if(day in weekend):\n",
    "    print(\"It is weekend.\")\n",
    "else:\n",
    "    print(\"It is a working day.\")"
   ]
  }
 ],
 "metadata": {
  "interpreter": {
   "hash": "ad656f289066d2d56f54d0138b7fb8c94dfae5d1b900f04aa1e0689ec549afab"
  },
  "kernelspec": {
   "display_name": "Python 3.9.7 64-bit",
   "name": "python3"
  },
  "language_info": {
   "codemirror_mode": {
    "name": "ipython",
    "version": 3
   },
   "file_extension": ".py",
   "mimetype": "text/x-python",
   "name": "python",
   "nbconvert_exporter": "python",
   "pygments_lexer": "ipython3",
   "version": "3.9.7"
  },
  "orig_nbformat": 4
 },
 "nbformat": 4,
 "nbformat_minor": 2
}

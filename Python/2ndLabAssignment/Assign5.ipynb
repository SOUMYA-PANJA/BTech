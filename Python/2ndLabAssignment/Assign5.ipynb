{
 "cells": [
  {
   "cell_type": "markdown",
   "metadata": {},
   "source": [
    "# Write a Python program to check which has a greater string length between a user input first name and surname."
   ]
  },
  {
   "cell_type": "code",
   "execution_count": 1,
   "metadata": {},
   "outputs": [
    {
     "name": "stdout",
     "output_type": "stream",
     "text": [
      "The name is: Yash Raj\n",
      "First name have greater length.\n"
     ]
    }
   ],
   "source": [
    "name = input(\"Enter your first name and surname: \")\n",
    "print(\"The name is:\", name)\n",
    "if(name.split()[0] > name.split()[1]):\n",
    "    print(\"First name have greater length.\")\n",
    "elif(name.split()[0] == name.split()[1]):\n",
    "    print(\"First name and surname have equal lengths.\")\n",
    "else:\n",
    "    print(\"Surname have greater length.\")"
   ]
  }
 ],
 "metadata": {
  "interpreter": {
   "hash": "ad656f289066d2d56f54d0138b7fb8c94dfae5d1b900f04aa1e0689ec549afab"
  },
  "kernelspec": {
   "display_name": "Python 3.9.7 64-bit",
   "name": "python3"
  },
  "language_info": {
   "codemirror_mode": {
    "name": "ipython",
    "version": 3
   },
   "file_extension": ".py",
   "mimetype": "text/x-python",
   "name": "python",
   "nbconvert_exporter": "python",
   "pygments_lexer": "ipython3",
   "version": "3.9.7"
  },
  "orig_nbformat": 4
 },
 "nbformat": 4,
 "nbformat_minor": 2
}

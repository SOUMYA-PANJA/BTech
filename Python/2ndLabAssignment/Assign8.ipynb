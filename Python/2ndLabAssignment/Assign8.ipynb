{
 "cells": [
  {
   "cell_type": "markdown",
   "metadata": {},
   "source": [
    "# Write a Python program to take any user input word and print all possible character combinations for that word (Example: Data → aDat, aaDt, aatD, Daat, Dtaa, taaD, taDa, tDaa, and so on)."
   ]
  },
  {
   "cell_type": "code",
   "execution_count": 1,
   "metadata": {},
   "outputs": [
    {
     "name": "stdout",
     "output_type": "stream",
     "text": [
      "Entered word is: Data\n",
      "All possible combinations for the word are:\n",
      "Data Daat Dtaa Dtaa Data Daat aDta aDat atDa ataD aatD aaDt taDa taaD tDaa tDaa taDa taaD aatD aaDt ataD atDa aDta aDat "
     ]
    }
   ],
   "source": [
    "def charSplit(word):\n",
    "    return [char for char in word]\n",
    "\n",
    "def charCombination(wordList, num):\n",
    "    if(len(wordList) - 1 == num):\n",
    "        print(\"\".join(wordList), end = ' ')\n",
    "        return\n",
    "    for j in range(num,len(wordList)):\n",
    "        wordList[num],wordList[j] = wordList[j],wordList[num]\n",
    "        charCombination(wordList, num+1)\n",
    "        wordList[num],wordList[j] = wordList[j],wordList[num]\n",
    "    \n",
    "word = input(\"Enter a word: \")\n",
    "print(\"Entered word is:\", word)\n",
    "print(\"All possible combinations for the word are:\")\n",
    "charCombination(charSplit(word), 0)"
   ]
  }
 ],
 "metadata": {
  "interpreter": {
   "hash": "ad656f289066d2d56f54d0138b7fb8c94dfae5d1b900f04aa1e0689ec549afab"
  },
  "kernelspec": {
   "display_name": "Python 3.9.7 64-bit",
   "name": "python3"
  },
  "language_info": {
   "codemirror_mode": {
    "name": "ipython",
    "version": 3
   },
   "file_extension": ".py",
   "mimetype": "text/x-python",
   "name": "python",
   "nbconvert_exporter": "python",
   "pygments_lexer": "ipython3",
   "version": "3.9.7"
  },
  "orig_nbformat": 4
 },
 "nbformat": 4,
 "nbformat_minor": 2
}

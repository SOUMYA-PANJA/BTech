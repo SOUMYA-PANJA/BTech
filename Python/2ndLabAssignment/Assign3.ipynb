{
 "cells": [
  {
   "cell_type": "markdown",
   "metadata": {},
   "source": [
    "# Suppose there is a string = “Python is fun.”. Write a Python program to replace every character of the string with its immediate next character in the alphabets. The output should be: Qzuipo jt gvo."
   ]
  },
  {
   "cell_type": "code",
   "execution_count": 1,
   "metadata": {},
   "outputs": [
    {
     "name": "stdout",
     "output_type": "stream",
     "text": [
      "The string is: Python is fun.\n",
      "The string after replaceing the characters: Qzuipo jt gvo.\n"
     ]
    }
   ],
   "source": [
    "def charSplit(word):\n",
    "    return [char for char in word]\n",
    "\n",
    "string = \"Python is fun.\"\n",
    "print(\"The string is:\", string)\n",
    "string = string.split()\n",
    "for i in range(len(string)):\n",
    "    string[i] = charSplit(string[i])\n",
    "    for j in range(len(string[i])):\n",
    "        if(string[i][j] != '.'):\n",
    "            string[i][j] = chr(ord(string[i][j])+1)\n",
    "    string[i] = \"\".join(string[i])\n",
    "string = \" \".join(string)\n",
    "\n",
    "print(\"The string after replaceing the characters:\", string)"
   ]
  }
 ],
 "metadata": {
  "interpreter": {
   "hash": "ad656f289066d2d56f54d0138b7fb8c94dfae5d1b900f04aa1e0689ec549afab"
  },
  "kernelspec": {
   "display_name": "Python 3.9.7 64-bit",
   "name": "python3"
  },
  "language_info": {
   "codemirror_mode": {
    "name": "ipython",
    "version": 3
   },
   "file_extension": ".py",
   "mimetype": "text/x-python",
   "name": "python",
   "nbconvert_exporter": "python",
   "pygments_lexer": "ipython3",
   "version": "3.9.7"
  },
  "orig_nbformat": 4
 },
 "nbformat": 4,
 "nbformat_minor": 2
}

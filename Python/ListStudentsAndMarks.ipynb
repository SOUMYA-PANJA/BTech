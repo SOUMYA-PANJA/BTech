{
 "cells": [
  {
   "cell_type": "markdown",
   "metadata": {},
   "source": [
    "# Name: Soumya Panja, Roll no.: 34230820017\n",
    "## Q. Suppose there are six students in a class as A, B, C, D, E, and F. The students got respectively 78, 82, 86, 90, 81, and 92 marks. Print all the students' marks. Now, after their promotion to the new class, B, C and D left the school to join a new school. Print the new students' list. Finally, G and H joined this school, and received 75 and 85 marks on their entrance test. Now print the entire modified list."
   ]
  },
  {
   "cell_type": "code",
   "execution_count": 10,
   "metadata": {},
   "outputs": [
    {
     "name": "stdout",
     "output_type": "stream",
     "text": [
      "Marks of all students:\n",
      "A -> 78\n",
      "B -> 82\n",
      "C -> 86\n",
      "D -> 90\n",
      "E -> 81\n",
      "F -> 92\n",
      "New students list:\n",
      "A -> 78\n",
      "E -> 81\n",
      "F -> 92\n",
      "Final student list:\n",
      "A -> 78\n",
      "E -> 81\n",
      "F -> 92\n",
      "G -> 75\n",
      "H -> 85\n"
     ]
    }
   ],
   "source": [
    "StudentsAndMarks = [['A', 78], ['B', 82], ['C', 86], ['D', 90], ['E', 81], ['F', 92]]\n",
    "print(\"Marks of all students:\")\n",
    "for i,j in StudentsAndMarks:\n",
    "    print(i,'->',j)\n",
    "StudentsAndMarks.remove(['B', 82])\n",
    "StudentsAndMarks.remove(['C', 86])\n",
    "StudentsAndMarks.remove(['D', 90])\n",
    "print(\"New students list:\")\n",
    "for i,j in StudentsAndMarks:\n",
    "    print(i,'->',j)\n",
    "StudentsAndMarks.append(['G', 75])\n",
    "StudentsAndMarks.append(['H', 85])\n",
    "print(\"Final student list:\")\n",
    "for i,j in StudentsAndMarks:\n",
    "    print(i,'->',j)\n"
   ]
  }
 ],
 "metadata": {
  "interpreter": {
   "hash": "4f3b078249380ea762697f4f8f6aea77b3d6e43cbb1b18cbb73d8cde5aa597e7"
  },
  "kernelspec": {
   "display_name": "Python 3.9.7 64-bit (system)",
   "language": "python",
   "name": "python3"
  },
  "language_info": {
   "codemirror_mode": {
    "name": "ipython",
    "version": 3
   },
   "file_extension": ".py",
   "mimetype": "text/x-python",
   "name": "python",
   "nbconvert_exporter": "python",
   "pygments_lexer": "ipython3",
   "version": "3.9.7"
  },
  "orig_nbformat": 4
 },
 "nbformat": 4,
 "nbformat_minor": 2
}

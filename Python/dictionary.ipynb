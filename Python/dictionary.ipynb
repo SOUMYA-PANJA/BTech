{
 "cells": [
  {
   "cell_type": "code",
   "execution_count": 10,
   "metadata": {},
   "outputs": [
    {
     "name": "stdout",
     "output_type": "stream",
     "text": [
      "['2', '4', '3', '2', '4', '5']\n",
      "['7', '8', '3', '2', '4', '5']\n"
     ]
    }
   ],
   "source": [
    "lst = list(input(\"Enter a list: \").split())\n",
    "print(lst)\n",
    "for i in range(len(lst)):\n",
    "    if(lst.count(lst[i]) > 1):\n",
    "        lst[i] = input(\"Enter another element to replace:\")\n",
    "print(lst)"
   ]
  },
  {
   "cell_type": "code",
   "execution_count": 7,
   "metadata": {},
   "outputs": [
    {
     "name": "stdout",
     "output_type": "stream",
     "text": [
      "Negative numbers:  -2, -54, -5, \n",
      "Positive numbers:  2, 12, 33, 23, "
     ]
    }
   ],
   "source": [
    "list1 = [2, 12, 33, -2, -54, 23, -5]\n",
    "print(\"Negative numbers: \", end = ' ')\n",
    "for i in list1:\n",
    "    if(i < 0):\n",
    "        print(i,end=\", \")\n",
    "\n",
    "print(\"\\nPositive numbers: \", end = ' ')\n",
    "for i in list1:\n",
    "    if(i > 0):\n",
    "        print(i,end=\", \")"
   ]
  },
  {
   "cell_type": "code",
   "execution_count": 52,
   "metadata": {},
   "outputs": [
    {
     "name": "stdout",
     "output_type": "stream",
     "text": [
      "[2, 4, 3, 5, 2, 3]\n",
      "2 : 2\n",
      "4 : 1\n",
      "3 : 2\n",
      "5 : 1\n",
      "[2, 2, 3, 3, 4, 5]\n"
     ]
    }
   ],
   "source": [
    "lst = list(input(\"Enter a list: \").split())\n",
    "for i in range(len(lst)):\n",
    "    lst[i] = int(lst[i])\n",
    "print(lst)\n",
    "for i in range(len(lst)):\n",
    "    if((lst[:i].count(lst[i])) < 1):\n",
    "        print(lst[i],\":\",lst.count(lst[i]))\n",
    "\n",
    "lst.sort()\n",
    "print(lst)\n"
   ]
  },
  {
   "cell_type": "code",
   "execution_count": 5,
   "metadata": {},
   "outputs": [
    {
     "name": "stdout",
     "output_type": "stream",
     "text": [
      "a : 2\n",
      "b : 11\n",
      "c : 4\n",
      "x : 10\n"
     ]
    }
   ],
   "source": [
    "dict1 = {'b':11,'a':2,'c':4}\n",
    "dict1['x'] = 10\n",
    "for i in sorted(dict1):\n",
    "    print(i,\":\",dict1[i])"
   ]
  }
 ],
 "metadata": {
  "interpreter": {
   "hash": "ad656f289066d2d56f54d0138b7fb8c94dfae5d1b900f04aa1e0689ec549afab"
  },
  "kernelspec": {
   "display_name": "Python 3.9.7 64-bit",
   "language": "python",
   "name": "python3"
  },
  "language_info": {
   "codemirror_mode": {
    "name": "ipython",
    "version": 3
   },
   "file_extension": ".py",
   "mimetype": "text/x-python",
   "name": "python",
   "nbconvert_exporter": "python",
   "pygments_lexer": "ipython3",
   "version": "3.9.7"
  },
  "orig_nbformat": 4
 },
 "nbformat": 4,
 "nbformat_minor": 2
}

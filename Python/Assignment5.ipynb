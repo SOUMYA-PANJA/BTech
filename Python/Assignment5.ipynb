{
 "cells": [
  {
   "cell_type": "markdown",
   "metadata": {},
   "source": [
    "# 5. Write a program to find the larger two numbers of three user input numbers, then add those two numbers."
   ]
  },
  {
   "cell_type": "code",
   "execution_count": 1,
   "metadata": {},
   "outputs": [
    {
     "name": "stdout",
     "output_type": "stream",
     "text": [
      "The numbers entered:  23 , 42 , 12\n",
      "The largest numbers are: 23 and 42\n",
      "Sum of the number 23 and 42 is 65\n"
     ]
    }
   ],
   "source": [
    "num1 = int(input(\"Enter 1st number:\"))\n",
    "num2 = int(input(\"Enter 2nd number:\"))\n",
    "num3 = int(input(\"Enter 3rd number:\"))\n",
    "print(\"The numbers entered: \",num1,',',num2,',',num3)\n",
    "if(num1 > num2):\n",
    "    if(num2 > num3):\n",
    "        print(\"The largest numbers are:\", num1,\"and\", num2)\n",
    "        print(\"Sum of the number\", num1,\"and\", num2,\"is\", num1 + num2)\n",
    "    else:\n",
    "        print(\"The largest numbers are:\", num1,\"and\", num3)\n",
    "        print(\"Sum of the number\", num1,\"and\", num3,\"is\", num1 + num3)\n",
    "else:\n",
    "    if(num1 > num3):\n",
    "        print(\"The largest numbers are:\", num1,\"and\", num2)\n",
    "        print(\"Sum of the number\", num1,\"and\", num2,\"is\", num1 + num2)\n",
    "    else:\n",
    "        print(\"The largest numbers are:\", num2,\"and\", num3)\n",
    "        print(\"Sum of the number\", num2,\"and\", num3,\"is\", num2 + num3)\n"
   ]
  }
 ],
 "metadata": {
  "interpreter": {
   "hash": "c569cd2e17f62341e0f08a54f9a867c3c0d3a6f67454072d7de41a8b5dff8343"
  },
  "kernelspec": {
   "display_name": "Python 3.9.6 64-bit",
   "name": "python3"
  },
  "language_info": {
   "codemirror_mode": {
    "name": "ipython",
    "version": 3
   },
   "file_extension": ".py",
   "mimetype": "text/x-python",
   "name": "python",
   "nbconvert_exporter": "python",
   "pygments_lexer": "ipython3",
   "version": "3.9.6"
  },
  "orig_nbformat": 4
 },
 "nbformat": 4,
 "nbformat_minor": 2
}

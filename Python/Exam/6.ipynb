{
 "cells": [
  {
   "cell_type": "markdown",
   "metadata": {},
   "source": [
    "# 6. Write a Python program to display all the even numbers between 2727806 and 2727820 (Including these numbers)."
   ]
  },
  {
   "cell_type": "code",
   "execution_count": 3,
   "metadata": {},
   "outputs": [
    {
     "name": "stdout",
     "output_type": "stream",
     "text": [
      "2727806 2727808 2727810 2727812 2727814 2727816 2727818 2727820 "
     ]
    }
   ],
   "source": [
    "for i in range(2727806, 2727821):\n",
    "    if(i % 2 == 0):\n",
    "        print(i, end=' ')"
   ]
  }
 ],
 "metadata": {
  "interpreter": {
   "hash": "ad656f289066d2d56f54d0138b7fb8c94dfae5d1b900f04aa1e0689ec549afab"
  },
  "kernelspec": {
   "display_name": "Python 3.9.7 64-bit",
   "language": "python",
   "name": "python3"
  },
  "language_info": {
   "codemirror_mode": {
    "name": "ipython",
    "version": 3
   },
   "file_extension": ".py",
   "mimetype": "text/x-python",
   "name": "python",
   "nbconvert_exporter": "python",
   "pygments_lexer": "ipython3",
   "version": "3.9.7"
  },
  "orig_nbformat": 4
 },
 "nbformat": 4,
 "nbformat_minor": 2
}

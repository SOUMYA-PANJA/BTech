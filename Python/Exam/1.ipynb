{
 "cells": [
  {
   "cell_type": "markdown",
   "metadata": {},
   "source": [
    "#### 1. Write a Program in Python where the program would take three sides of a triangle as user inputs, and based on the inputs the program will show whether the triangle would be Equilateral, Isosceles, Ordinary triangle, or an invalid triangle."
   ]
  },
  {
   "cell_type": "code",
   "execution_count": 12,
   "metadata": {},
   "outputs": [
    {
     "name": "stdout",
     "output_type": "stream",
     "text": [
      "Side A:  5\n",
      "Side B:  5\n",
      "Side C:  4\n",
      "Isoceles Triangle.\n"
     ]
    }
   ],
   "source": [
    "side_A = int(input(\"Enter side A: \"))\n",
    "side_B = int(input(\"Enter side B: \"))\n",
    "side_C = int(input(\"Enter side C: \"))\n",
    "print(\"Side A: \", side_A)\n",
    "print(\"Side B: \", side_B)\n",
    "print(\"Side C: \", side_C)\n",
    "if((side_A + side_B < side_C) or (side_B + side_C < side_A) or (side_C + side_A < side_B)):\n",
    "    print(\"Invalid Triangle.\")\n",
    "elif(side_A == side_B == side_C):\n",
    "    print(\"Equilateral Triangle.\")\n",
    "elif(side_A == side_B or side_B == side_C or side_C == side_A):\n",
    "    print(\"Isoceles Triangle.\")\n",
    "else:\n",
    "    print(\"Ordinary Triangle.\")\n"
   ]
  }
 ],
 "metadata": {
  "interpreter": {
   "hash": "ad656f289066d2d56f54d0138b7fb8c94dfae5d1b900f04aa1e0689ec549afab"
  },
  "kernelspec": {
   "display_name": "Python 3.9.7 64-bit",
   "language": "python",
   "name": "python3"
  },
  "language_info": {
   "codemirror_mode": {
    "name": "ipython",
    "version": 3
   },
   "file_extension": ".py",
   "mimetype": "text/x-python",
   "name": "python",
   "nbconvert_exporter": "python",
   "pygments_lexer": "ipython3",
   "version": "3.9.7"
  },
  "orig_nbformat": 4
 },
 "nbformat": 4,
 "nbformat_minor": 2
}

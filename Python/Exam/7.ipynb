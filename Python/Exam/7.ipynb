{
 "cells": [
  {
   "cell_type": "markdown",
   "metadata": {},
   "source": [
    "### 7. By importing the Python math module, write a program to take any number as user input. Now determine the power of 4, factorial, square root, and log2 value of that number."
   ]
  },
  {
   "cell_type": "code",
   "execution_count": 1,
   "metadata": {},
   "outputs": [
    {
     "name": "stdout",
     "output_type": "stream",
     "text": [
      "The number is: 5\n",
      "The power of 4:  625.0\n",
      "The factorial:  120\n",
      "The square root:  2.23606797749979\n",
      "The log2:  2.321928094887362\n"
     ]
    }
   ],
   "source": [
    "import math\n",
    "num = int(input(\"Enter a number: \"))\n",
    "print(\"The number is:\", num)\n",
    "print(\"The power of 4: \", math.pow(num, 4))\n",
    "print(\"The factorial: \", math.factorial(num))\n",
    "print(\"The square root: \", math.sqrt(num))\n",
    "print(\"The log2: \", math.log2(num))"
   ]
  }
 ],
 "metadata": {
  "interpreter": {
   "hash": "ad656f289066d2d56f54d0138b7fb8c94dfae5d1b900f04aa1e0689ec549afab"
  },
  "kernelspec": {
   "display_name": "Python 3.9.7 64-bit",
   "language": "python",
   "name": "python3"
  },
  "language_info": {
   "codemirror_mode": {
    "name": "ipython",
    "version": 3
   },
   "file_extension": ".py",
   "mimetype": "text/x-python",
   "name": "python",
   "nbconvert_exporter": "python",
   "pygments_lexer": "ipython3",
   "version": "3.9.7"
  },
  "orig_nbformat": 4
 },
 "nbformat": 4,
 "nbformat_minor": 2
}

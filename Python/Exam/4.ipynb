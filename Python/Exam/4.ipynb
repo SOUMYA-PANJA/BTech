{
 "cells": [
  {
   "cell_type": "markdown",
   "metadata": {},
   "source": [
    "## 4. Write a Python program to show if a user input character is in Upper Case, Lower Case, Numeric or Special Character."
   ]
  },
  {
   "cell_type": "code",
   "execution_count": 2,
   "metadata": {},
   "outputs": [
    {
     "name": "stdout",
     "output_type": "stream",
     "text": [
      "The character is: &\n",
      "Special Character.\n"
     ]
    }
   ],
   "source": [
    "c = input(\"Enter a character: \")\n",
    "print(\"The character is:\", c)\n",
    "if(c.isalpha()):\n",
    "    if(c.isupper()):\n",
    "        print(\"Upper Case.\")\n",
    "    elif(c.islower()):\n",
    "        print(\"Lower Case.\")\n",
    "elif(c.isnumeric()):\n",
    "    print(\"Numeric.\")\n",
    "else:\n",
    "    print(\"Special Character.\")"
   ]
  }
 ],
 "metadata": {
  "interpreter": {
   "hash": "ad656f289066d2d56f54d0138b7fb8c94dfae5d1b900f04aa1e0689ec549afab"
  },
  "kernelspec": {
   "display_name": "Python 3.9.7 64-bit",
   "language": "python",
   "name": "python3"
  },
  "language_info": {
   "codemirror_mode": {
    "name": "ipython",
    "version": 3
   },
   "file_extension": ".py",
   "mimetype": "text/x-python",
   "name": "python",
   "nbconvert_exporter": "python",
   "pygments_lexer": "ipython3",
   "version": "3.9.7"
  },
  "orig_nbformat": 4
 },
 "nbformat": 4,
 "nbformat_minor": 2
}

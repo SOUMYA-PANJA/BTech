{
 "cells": [
  {
   "cell_type": "code",
   "execution_count": 4,
   "id": "82746b5e",
   "metadata": {},
   "outputs": [
    {
     "name": "stdout",
     "output_type": "stream",
     "text": [
      "Enter year: 2000\n",
      "Leap year.\n"
     ]
    }
   ],
   "source": [
    "a = int(input(\"Enter year: \"))\n",
    "if(a%400 == 0):\n",
    "    print(\"Leap year.\")\n",
    "elif(a%100 == 0):\n",
    "    print(\"Not a leap year.\")\n",
    "elif(a%4 == 0):\n",
    "    print(\"Leap year.\")\n",
    "else:\n",
    "    print(\"Not a leap year.\")"
   ]
  }
 ],
 "metadata": {
  "kernelspec": {
   "display_name": "Python 3 (ipykernel)",
   "language": "python",
   "name": "python3"
  },
  "language_info": {
   "codemirror_mode": {
    "name": "ipython",
    "version": 3
   },
   "file_extension": ".py",
   "mimetype": "text/x-python",
   "name": "python",
   "nbconvert_exporter": "python",
   "pygments_lexer": "ipython3",
   "version": "3.9.6"
  }
 },
 "nbformat": 4,
 "nbformat_minor": 5
}

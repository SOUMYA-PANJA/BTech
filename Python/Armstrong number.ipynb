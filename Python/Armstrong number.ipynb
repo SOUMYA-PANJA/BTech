{
 "cells": [
  {
   "cell_type": "code",
   "execution_count": 5,
   "source": [
    "a = int(input(\"Enter a number: \"))\r\n",
    "b = a\r\n",
    "c = 0\r\n",
    "while(b > 0):\r\n",
    "    c += (b%10)**3\r\n",
    "    b = b//10\r\n",
    "if(a == c):\r\n",
    "    print(\"Armstrong number.\")\r\n",
    "else:\r\n",
    "    print(\"Not a Armstrong number.\")"
   ],
   "outputs": [
    {
     "output_type": "stream",
     "name": "stdout",
     "text": [
      "Armstrong number.\n"
     ]
    }
   ],
   "metadata": {}
  }
 ],
 "metadata": {
  "kernelspec": {
   "name": "python3",
   "display_name": "Python 3.9.6 64-bit"
  },
  "language_info": {
   "codemirror_mode": {
    "name": "ipython",
    "version": 3
   },
   "file_extension": ".py",
   "mimetype": "text/x-python",
   "name": "python",
   "nbconvert_exporter": "python",
   "pygments_lexer": "ipython3",
   "version": "3.9.6"
  },
  "interpreter": {
   "hash": "c569cd2e17f62341e0f08a54f9a867c3c0d3a6f67454072d7de41a8b5dff8343"
  }
 },
 "nbformat": 4,
 "nbformat_minor": 5
}
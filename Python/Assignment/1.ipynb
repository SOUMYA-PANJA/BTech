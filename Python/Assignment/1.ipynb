{
 "cells": [
  {
   "cell_type": "markdown",
   "metadata": {},
   "source": [
    "# 1. Write a program to take any five city names as user input. Now store those names as list elements and print the list."
   ]
  },
  {
   "cell_type": "code",
   "execution_count": 2,
   "metadata": {},
   "outputs": [
    {
     "name": "stdout",
     "output_type": "stream",
     "text": [
      "['Kolkata', 'Mumbai', 'Bangalore', 'London', 'Michigan']\n"
     ]
    }
   ],
   "source": [
    "city = []\n",
    "for i in range(5):\n",
    "    s = f\"Enter city {i+1}: \"\n",
    "    city.append(input(s))\n",
    "print(city)"
   ]
  }
 ],
 "metadata": {
  "interpreter": {
   "hash": "8a12c395b24294f8a1b5058af593b9253c11557d4673e894b8b9b471713f2076"
  },
  "kernelspec": {
   "display_name": "Python 3.9.9 64-bit (windows store)",
   "language": "python",
   "name": "python3"
  },
  "language_info": {
   "codemirror_mode": {
    "name": "ipython",
    "version": 3
   },
   "file_extension": ".py",
   "mimetype": "text/x-python",
   "name": "python",
   "nbconvert_exporter": "python",
   "pygments_lexer": "ipython3",
   "version": "3.9.7"
  },
  "orig_nbformat": 4
 },
 "nbformat": 4,
 "nbformat_minor": 2
}

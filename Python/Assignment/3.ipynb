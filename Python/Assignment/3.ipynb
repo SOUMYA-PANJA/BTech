{
 "cells": [
  {
   "cell_type": "markdown",
   "metadata": {},
   "source": [
    "# 3. Write a program to merge two tuples with their respective elements, and sort the new tuple elements using bubble sort."
   ]
  },
  {
   "cell_type": "code",
   "execution_count": 14,
   "metadata": {},
   "outputs": [
    {
     "name": "stdout",
     "output_type": "stream",
     "text": [
      "(2, 4, 12, 23, 23, 53, 65, 73)\n"
     ]
    }
   ],
   "source": [
    "tup1 = (4, 2, 65, 23)\n",
    "tup2 = (12, 23, 73, 53)\n",
    "tup1 = tuple(list(tup1) + list(tup2))\n",
    "\n",
    "tup1 = list(tup1)\n",
    "for j in range(len(tup1)):\n",
    "    for i in range(len(tup1)-j-1):\n",
    "        if(tup1[i+1] < tup1[i]):\n",
    "            tup1[i], tup1[i+1] = tup1[i+1], tup1[i]\n",
    "tup1 = tuple(tup1)\n",
    "print(tup1)"
   ]
  }
 ],
 "metadata": {
  "interpreter": {
   "hash": "ad656f289066d2d56f54d0138b7fb8c94dfae5d1b900f04aa1e0689ec549afab"
  },
  "kernelspec": {
   "display_name": "Python 3.9.7 64-bit",
   "language": "python",
   "name": "python3"
  },
  "language_info": {
   "codemirror_mode": {
    "name": "ipython",
    "version": 3
   },
   "file_extension": ".py",
   "mimetype": "text/x-python",
   "name": "python",
   "nbconvert_exporter": "python",
   "pygments_lexer": "ipython3",
   "version": "3.9.7"
  },
  "orig_nbformat": 4
 },
 "nbformat": 4,
 "nbformat_minor": 2
}

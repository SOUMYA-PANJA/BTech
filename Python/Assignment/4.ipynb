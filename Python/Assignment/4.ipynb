{
 "cells": [
  {
   "cell_type": "markdown",
   "metadata": {},
   "source": [
    "### 4. Create three Python lists, where the first list contains employee names, the second list contains employee surnames, and the third list contains employee salaries. Every list should contain 5 employees’ details. Now print the lists in such a manner where the names, surnames, and salaries of the employees could be shown together from three different lists. (E.g., Md. Salah 50000.)"
   ]
  },
  {
   "cell_type": "code",
   "execution_count": 2,
   "metadata": {},
   "outputs": [
    {
     "name": "stdout",
     "output_type": "stream",
     "text": [
      "Ram Kumar 50000\n",
      "Sam Das 40000\n",
      "John Kapoor 60000\n",
      "Karan Khan 45000\n",
      "Sid Salah 55000\n"
     ]
    }
   ],
   "source": [
    "list_name = [\"Ram\", \"Sam\", \"John\", \"Karan\", \"Sid\"]\n",
    "list_surname = [\"Kumar\", \"Das\", \"Kapoor\", \"Khan\", \"Salah\"]\n",
    "list_salary = [50000, 40000, 60000, 45000, 55000]\n",
    "for i in range(len(list_name)):\n",
    "    print(list_name[i],list_surname[i],list_salary[i])"
   ]
  },
  {
   "cell_type": "code",
   "execution_count": null,
   "metadata": {},
   "outputs": [],
   "source": []
  }
 ],
 "metadata": {
  "interpreter": {
   "hash": "ad656f289066d2d56f54d0138b7fb8c94dfae5d1b900f04aa1e0689ec549afab"
  },
  "kernelspec": {
   "display_name": "Python 3.9.7 64-bit",
   "language": "python",
   "name": "python3"
  },
  "language_info": {
   "codemirror_mode": {
    "name": "ipython",
    "version": 3
   },
   "file_extension": ".py",
   "mimetype": "text/x-python",
   "name": "python",
   "nbconvert_exporter": "python",
   "pygments_lexer": "ipython3",
   "version": "3.9.7"
  },
  "orig_nbformat": 4
 },
 "nbformat": 4,
 "nbformat_minor": 2
}

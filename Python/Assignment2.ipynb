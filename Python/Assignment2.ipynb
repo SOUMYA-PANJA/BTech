{
 "cells": [
  {
   "cell_type": "markdown",
   "metadata": {},
   "source": [
    "# 2. Declare two lists as: [\"Computer Science\", \"Physics\", \"Maths\"], and [\"AI\", \"Cosmology\",\"Bayesian Theory\"]. Now check if a user input element exists in any of the declared lists."
   ]
  },
  {
   "cell_type": "code",
   "execution_count": 1,
   "metadata": {},
   "outputs": [
    {
     "name": "stdout",
     "output_type": "stream",
     "text": [
      "AI present in 2nd list.\n"
     ]
    }
   ],
   "source": [
    "list1 = [\"Computer Science\", \"Physics\", \"Maths\"]\n",
    "list2 = [\"AI\", \"Cosmology\", \"Bayesian Theory\"]\n",
    "key = input(\"Enter an element:\")\n",
    "if(key in list1):\n",
    "    print(key,\"present in 1st list.\")\n",
    "elif(key in list2):\n",
    "    print(key,\"present in 2nd list.\")\n",
    "else:\n",
    "    print(key,\"is not present.\")"
   ]
  }
 ],
 "metadata": {
  "interpreter": {
   "hash": "c569cd2e17f62341e0f08a54f9a867c3c0d3a6f67454072d7de41a8b5dff8343"
  },
  "kernelspec": {
   "display_name": "Python 3.9.6 64-bit",
   "name": "python3"
  },
  "language_info": {
   "codemirror_mode": {
    "name": "ipython",
    "version": 3
   },
   "file_extension": ".py",
   "mimetype": "text/x-python",
   "name": "python",
   "nbconvert_exporter": "python",
   "pygments_lexer": "ipython3",
   "version": "3.9.6"
  },
  "orig_nbformat": 4
 },
 "nbformat": 4,
 "nbformat_minor": 2
}

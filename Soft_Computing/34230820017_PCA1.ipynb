{
  "nbformat": 4,
  "nbformat_minor": 0,
  "metadata": {
    "colab": {
      "provenance": []
    },
    "kernelspec": {
      "name": "python3",
      "display_name": "Python 3"
    },
    "language_info": {
      "name": "python"
    }
  },
  "cells": [
    {
      "cell_type": "markdown",
      "source": [
        "# Question 8"
      ],
      "metadata": {
        "id": "qfySG9x1gNkl"
      }
    },
    {
      "cell_type": "code",
      "execution_count": null,
      "metadata": {
        "id": "lc8TT-dNgBkR"
      },
      "outputs": [],
      "source": [
        "from sklearn import svm\n",
        "import numpy as np"
      ]
    },
    {
      "cell_type": "code",
      "source": [
        "X = np.array(\n",
        "    [\n",
        "        [0.4, 0.3],\n",
        "        [0.8, 0.7],\n",
        "        [0.3, 0.3],\n",
        "        [0.7, 0.6],\n",
        "        [0.9, 0.7],\n",
        "        [0.3, 0.4],\n",
        "        [0.6, 0.7]\n",
        "    ]\n",
        ")"
      ],
      "metadata": {
        "id": "yGB-DXhZgRhg"
      },
      "execution_count": null,
      "outputs": []
    },
    {
      "cell_type": "code",
      "source": [
        "Y = np.array([-1, 1, -1, 1, 1, -1, 1])"
      ],
      "metadata": {
        "id": "h1T3KgBogWZ2"
      },
      "execution_count": null,
      "outputs": []
    },
    {
      "cell_type": "code",
      "source": [
        "model = svm.SVC(C = 1.0, kernel = 'linear', probability = True, max_iter = 300)"
      ],
      "metadata": {
        "id": "6_OHt05UgW3S"
      },
      "execution_count": null,
      "outputs": []
    },
    {
      "cell_type": "code",
      "source": [
        "model.fit(X, Y)"
      ],
      "metadata": {
        "colab": {
          "base_uri": "https://localhost:8080/"
        },
        "id": "HgS74Hf-gau9",
        "outputId": "9bcac3b5-2816-4811-ac32-1cee4ca5d3d9"
      },
      "execution_count": null,
      "outputs": [
        {
          "output_type": "execute_result",
          "data": {
            "text/plain": [
              "SVC(kernel='linear', max_iter=300, probability=True)"
            ]
          },
          "metadata": {},
          "execution_count": 73
        }
      ]
    },
    {
      "cell_type": "code",
      "source": [
        "print(\"Predicted value: \", model.predict_proba(np.array([[0.3, 0.4]])))"
      ],
      "metadata": {
        "colab": {
          "base_uri": "https://localhost:8080/"
        },
        "id": "L1tzeKQzgeFF",
        "outputId": "1a70d6e0-c23b-4e30-af6a-b4d8a27686f6"
      },
      "execution_count": null,
      "outputs": [
        {
          "output_type": "stream",
          "name": "stdout",
          "text": [
            "Predicted value:  [[0.38192434 0.61807566]]\n"
          ]
        }
      ]
    },
    {
      "cell_type": "markdown",
      "source": [
        "# Question 3"
      ],
      "metadata": {
        "id": "hGZia3k1g9mm"
      }
    },
    {
      "cell_type": "code",
      "source": [
        "import numpy as np"
      ],
      "metadata": {
        "id": "11KHnNhoht_B"
      },
      "execution_count": null,
      "outputs": []
    },
    {
      "cell_type": "code",
      "source": [
        "class Fuzzy:\n",
        "\n",
        "  def __init__(self):\n",
        "    pass\n",
        "\n",
        "  def union(self, set1, set2):\n",
        "    return np.maximum(set1, set2)\n",
        "\n",
        "  def intersection(self, set1, set2):\n",
        "    return np.minimum(set1, set2)\n",
        "\n",
        "  def complement(self, set1):\n",
        "    return 1 - set1\n",
        "\n",
        "  def composition_complement(self, relation):\n",
        "    return 1 - relation\n",
        "\n",
        "  def min_max_composition(self, relation, set1):\n",
        "    return np.sum(relation*set1, axis = 1)\n"
      ],
      "metadata": {
        "id": "gcaWpMUrgg3k"
      },
      "execution_count": null,
      "outputs": []
    },
    {
      "cell_type": "code",
      "source": [
        "fuzzyOops = Fuzzy()"
      ],
      "metadata": {
        "id": "TAWabQpEi1XN"
      },
      "execution_count": null,
      "outputs": []
    },
    {
      "cell_type": "code",
      "source": [
        "set1 = np.array([0.3, 0.5, 0.2])\n",
        "set2 = np.array([0.1, 0.6, 0.8])"
      ],
      "metadata": {
        "id": "OgX0KXt-i5Mu"
      },
      "execution_count": null,
      "outputs": []
    },
    {
      "cell_type": "code",
      "source": [
        "relation = np.array(\n",
        "    [\n",
        "        [0.4, 0.2, 0.7],\n",
        "        [0.2, 0.9, 0.6],\n",
        "        [0.4, 0.6, 0.3]\n",
        "    ]\n",
        ")"
      ],
      "metadata": {
        "id": "o6lQxIaUi_Fm"
      },
      "execution_count": null,
      "outputs": []
    },
    {
      "cell_type": "code",
      "source": [
        "print(\"Set1: \", set1)\n",
        "print(\"Set2: \", set2)\n",
        "print(\"Relation: \", relation)"
      ],
      "metadata": {
        "colab": {
          "base_uri": "https://localhost:8080/"
        },
        "id": "vihq-beUjggN",
        "outputId": "3ac21f84-370a-4e74-9e45-00f70499159a"
      },
      "execution_count": null,
      "outputs": [
        {
          "output_type": "stream",
          "name": "stdout",
          "text": [
            "Set1:  [0.3 0.5 0.2]\n",
            "Set2:  [0.1 0.6 0.8]\n",
            "Relation:  [[0.4 0.2 0.7]\n",
            " [0.2 0.9 0.6]\n",
            " [0.4 0.6 0.3]]\n"
          ]
        }
      ]
    },
    {
      "cell_type": "code",
      "source": [
        "print(\"Union: \", fuzzyOops.union(set1, set2))\n",
        "print(\"Intersection: \", fuzzyOops.intersection(set1, set2))\n",
        "print(\"Complement: \", fuzzyOops.complement(set1))\n",
        "print(\": \", fuzzyOops.complement(set1))\n",
        "print(\"Relation complement: \", fuzzyOops.composition_complement(relation))\n",
        "print(\"Max min Composition: \", fuzzyOops.min_max_composition(relation, set1))"
      ],
      "metadata": {
        "colab": {
          "base_uri": "https://localhost:8080/"
        },
        "id": "2Y5BHaP3jPqU",
        "outputId": "c637f9e3-11e8-4420-e8c1-f84c7856a65a"
      },
      "execution_count": null,
      "outputs": [
        {
          "output_type": "stream",
          "name": "stdout",
          "text": [
            "Union:  [0.3 0.6 0.8]\n",
            "Intersection:  [0.1 0.5 0.2]\n",
            "Complement:  [0.7 0.5 0.8]\n",
            ":  [0.7 0.5 0.8]\n",
            "Relation complement:  [[0.6 0.8 0.3]\n",
            " [0.8 0.1 0.4]\n",
            " [0.6 0.4 0.7]]\n",
            "Max min Composition:  [0.36 0.63 0.48]\n"
          ]
        }
      ]
    },
    {
      "cell_type": "code",
      "source": [],
      "metadata": {
        "id": "qSPb63z_kAe2"
      },
      "execution_count": null,
      "outputs": []
    }
  ]
}